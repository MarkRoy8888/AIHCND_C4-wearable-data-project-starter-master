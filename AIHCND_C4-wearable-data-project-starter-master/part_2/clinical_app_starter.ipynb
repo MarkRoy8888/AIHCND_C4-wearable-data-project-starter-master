{
 "cells": [
  {
   "cell_type": "markdown",
   "metadata": {},
   "source": [
    "## Part 2: Clinical Application\n",
    "\n",
    "### Contents\n",
    "Fill out this notebook as part 2 of your final project submission.\n",
    "\n",
    "**You will have to complete the Code (Load Metadata & Compute Resting Heart Rate) and Project Write-up sections.**  \n",
    "\n",
    "- [Code](#Code) is where you will implement some parts of the **pulse rate algorithm** you created and tested in Part 1 and already includes the starter code.\n",
    "  - [Imports](#Imports) - These are the imports needed for Part 2 of the final project. \n",
    "    - [glob](https://docs.python.org/3/library/glob.html)\n",
    "    - [os](https://docs.python.org/3/library/os.html)\n",
    "    - [numpy](https://numpy.org/)\n",
    "    - [pandas](https://pandas.pydata.org/)\n",
    "  - [Load the Dataset](#Load-the-dataset)  \n",
    "  - [Load Metadata](#Load-Metadata)\n",
    "  - [Compute Resting Heart Rate](#Compute-Resting-Heart-Rate)\n",
    "  - [Plot Resting Heart Rate vs. Age Group](#Plot-Resting-Heart-Rate-vs.-Age-Group)\n",
    "- [Project Write-up](#Project-Write-Up) to describe the clinical significance you observe from the **pulse rate algorithm** applied to this dataset, what ways/information that could improve your results, and if we validated a trend known in the science community. \n",
    "\n",
    "### Dataset (CAST)\n",
    "\n",
    "The data from this project comes from the [Cardiac Arrythmia Suppression Trial (CAST)](https://physionet.org/content/crisdb/1.0.0/), which was sponsored by the National Heart, Lung, and Blood Institute (NHLBI). CAST collected 24 hours of heart rate data from ECGs from people who have had a myocardial infarction (MI) within the past two years.<sup>1</sup> This data has been smoothed and resampled to more closely resemble PPG-derived pulse rate data from a wrist wearable.<sup>2</sup>\n",
    "\n",
    "1. **CAST RR Interval Sub-Study Database Citation** - Stein PK, Domitrovich PP, Kleiger RE, Schechtman KB, Rottman JN. Clinical and demographic determinants of heart rate variability in patients post myocardial infarction: insights from the Cardiac Arrhythmia Suppression Trial (CAST). Clin Cardiol 23(3):187-94; 2000 (Mar)\n",
    "2. **Physionet Citation** - Goldberger AL, Amaral LAN, Glass L, Hausdorff JM, Ivanov PCh, Mark RG, Mietus JE, Moody GB, Peng C-K, Stanley HE. PhysioBank, PhysioToolkit, and PhysioNet: Components of a New Research Resource for Complex Physiologic Signals (2003). Circulation. 101(23):e215-e220.\n",
    "\n",
    "-----"
   ]
  },
  {
   "cell_type": "markdown",
   "metadata": {},
   "source": [
    "### Code\n",
    "#### Imports\n",
    "\n",
    "When you implement the functions, you'll only need to you use the packages you've used in the classroom, like [Pandas](https://pandas.pydata.org/) and [Numpy](http://www.numpy.org/). These packages are imported for you here. We recommend you don't import other packages outside of the [Standard Library](https://docs.python.org/3/library/) , otherwise the grader might not be able to run your code."
   ]
  },
  {
   "cell_type": "code",
   "execution_count": 50,
   "metadata": {},
   "outputs": [],
   "source": [
    "import glob\n",
    "import os\n",
    "# from glob import *\n",
    "import numpy as np\n",
    "import pandas as pd"
   ]
  },
  {
   "cell_type": "markdown",
   "metadata": {},
   "source": [
    "#### Load the dataset\n",
    "\n",
    "The dataset is stored as [.npz](https://docs.scipy.org/doc/numpy/reference/generated/numpy.savez.html) files. Each file contains roughly 24 hours of heart rate data in the 'hr' array sampled at 1Hz. The subject ID is the name of the file. You will use these files to compute resting heart rate.\n",
    "\n",
    "Demographics metadata is stored in a file called 'metadata.csv'. This CSV has three columns, one for subject ID, age group, and sex. You will use this file to make the association between resting heart rate and age group for each gender.\n",
    "\n",
    "Find the dataset in `../datasets/crisdb/`"
   ]
  },
  {
   "cell_type": "code",
   "execution_count": 74,
   "metadata": {},
   "outputs": [],
   "source": [
    "hr_filenames = glob.glob('./datasets/crisdb/*.npz')"
   ]
  },
  {
   "cell_type": "markdown",
   "metadata": {},
   "source": [
    "#### Load Metadata\n",
    "Load the metadata file into a datastructure that allows for easy lookups from subject ID to age group and sex."
   ]
  },
  {
   "cell_type": "code",
   "execution_count": 75,
   "metadata": {},
   "outputs": [],
   "source": [
    "with open(metadata_filename, 'r') as f:\n",
    "    metadata = pd.read_csv(f)"
   ]
  },
  {
   "cell_type": "code",
   "execution_count": 76,
   "metadata": {},
   "outputs": [
    {
     "data": {
      "text/html": [
       "<div>\n",
       "<style scoped>\n",
       "    .dataframe tbody tr th:only-of-type {\n",
       "        vertical-align: middle;\n",
       "    }\n",
       "\n",
       "    .dataframe tbody tr th {\n",
       "        vertical-align: top;\n",
       "    }\n",
       "\n",
       "    .dataframe thead th {\n",
       "        text-align: right;\n",
       "    }\n",
       "</style>\n",
       "<table border=\"1\" class=\"dataframe\">\n",
       "  <thead>\n",
       "    <tr style=\"text-align: right;\">\n",
       "      <th></th>\n",
       "      <th>subject</th>\n",
       "      <th>age</th>\n",
       "      <th>sex</th>\n",
       "    </tr>\n",
       "  </thead>\n",
       "  <tbody>\n",
       "    <tr>\n",
       "      <th>0</th>\n",
       "      <td>e198a</td>\n",
       "      <td>20-24</td>\n",
       "      <td>Male</td>\n",
       "    </tr>\n",
       "    <tr>\n",
       "      <th>1</th>\n",
       "      <td>e198b</td>\n",
       "      <td>20-24</td>\n",
       "      <td>Male</td>\n",
       "    </tr>\n",
       "    <tr>\n",
       "      <th>2</th>\n",
       "      <td>e028b</td>\n",
       "      <td>30-34</td>\n",
       "      <td>Male</td>\n",
       "    </tr>\n",
       "    <tr>\n",
       "      <th>3</th>\n",
       "      <td>e028a</td>\n",
       "      <td>30-34</td>\n",
       "      <td>Male</td>\n",
       "    </tr>\n",
       "    <tr>\n",
       "      <th>4</th>\n",
       "      <td>e061b</td>\n",
       "      <td>30-34</td>\n",
       "      <td>Male</td>\n",
       "    </tr>\n",
       "  </tbody>\n",
       "</table>\n",
       "</div>"
      ],
      "text/plain": [
       "  subject    age   sex\n",
       "0   e198a  20-24  Male\n",
       "1   e198b  20-24  Male\n",
       "2   e028b  30-34  Male\n",
       "3   e028a  30-34  Male\n",
       "4   e061b  30-34  Male"
      ]
     },
     "execution_count": 76,
     "metadata": {},
     "output_type": "execute_result"
    }
   ],
   "source": [
    "metadata.head()"
   ]
  },
  {
   "cell_type": "markdown",
   "metadata": {},
   "source": [
    "#### Compute Resting Heart Rate\n",
    "For each subject we want to compute the resting heart rate while keeping track of which age group this subject belongs to. An easy, robust way to compute the resting heart rate is to use the lowest 5th percentile value in the heart rate timeseries."
   ]
  },
  {
   "cell_type": "code",
   "execution_count": 77,
   "metadata": {},
   "outputs": [],
   "source": [
    "def AgeAndRHR(metadata, filename):\n",
    "\n",
    "    # Load the heart rate timeseries\n",
    "    hr_data = np.load(filename)['hr']\n",
    "    \n",
    "    # Compute the resting heart rate from the timeseries by finding the lowest 5th percentile value in hr_data\n",
    "    rhr = np.percentile(hr_data, 5)\n",
    "\n",
    "    # Find the subject ID from the filename.\n",
    "    subject = os.path.splitext(os.path.basename(filename))[0]\n",
    "\n",
    "    # Find the age group for this subject in metadata.\n",
    "    age_group = metadata.loc[metadata['subject'] == subject,'age'].item()\n",
    "    \n",
    "    # Find the sex for this subject in metadata.\n",
    "    sex = metadata.loc[metadata['subject'] == subject,'sex'].item()\n",
    "\n",
    "    return age_group, sex, rhr"
   ]
  },
  {
   "cell_type": "code",
   "execution_count": 78,
   "metadata": {},
   "outputs": [],
   "source": [
    "df = pd.DataFrame(data=[AgeAndRHR(metadata, filename) for filename in hr_filenames],\n",
    "                  columns=['age_group', 'sex', 'rhr'])"
   ]
  },
  {
   "cell_type": "code",
   "execution_count": 79,
   "metadata": {},
   "outputs": [
    {
     "data": {
      "text/html": [
       "<div>\n",
       "<style scoped>\n",
       "    .dataframe tbody tr th:only-of-type {\n",
       "        vertical-align: middle;\n",
       "    }\n",
       "\n",
       "    .dataframe tbody tr th {\n",
       "        vertical-align: top;\n",
       "    }\n",
       "\n",
       "    .dataframe thead th {\n",
       "        text-align: right;\n",
       "    }\n",
       "</style>\n",
       "<table border=\"1\" class=\"dataframe\">\n",
       "  <thead>\n",
       "    <tr style=\"text-align: right;\">\n",
       "      <th></th>\n",
       "      <th>age_group</th>\n",
       "      <th>sex</th>\n",
       "      <th>rhr</th>\n",
       "    </tr>\n",
       "  </thead>\n",
       "  <tbody>\n",
       "    <tr>\n",
       "      <th>0</th>\n",
       "      <td>60-64</td>\n",
       "      <td>Male</td>\n",
       "      <td>65.084746</td>\n",
       "    </tr>\n",
       "    <tr>\n",
       "      <th>1</th>\n",
       "      <td>60-64</td>\n",
       "      <td>Male</td>\n",
       "      <td>69.818182</td>\n",
       "    </tr>\n",
       "    <tr>\n",
       "      <th>2</th>\n",
       "      <td>65-69</td>\n",
       "      <td>Male</td>\n",
       "      <td>77.591753</td>\n",
       "    </tr>\n",
       "    <tr>\n",
       "      <th>3</th>\n",
       "      <td>65-69</td>\n",
       "      <td>Male</td>\n",
       "      <td>72.024615</td>\n",
       "    </tr>\n",
       "    <tr>\n",
       "      <th>4</th>\n",
       "      <td>55-59</td>\n",
       "      <td>Male</td>\n",
       "      <td>54.111052</td>\n",
       "    </tr>\n",
       "  </tbody>\n",
       "</table>\n",
       "</div>"
      ],
      "text/plain": [
       "  age_group   sex        rhr\n",
       "0     60-64  Male  65.084746\n",
       "1     60-64  Male  69.818182\n",
       "2     65-69  Male  77.591753\n",
       "3     65-69  Male  72.024615\n",
       "4     55-59  Male  54.111052"
      ]
     },
     "execution_count": 79,
     "metadata": {},
     "output_type": "execute_result"
    }
   ],
   "source": [
    "df.head()"
   ]
  },
  {
   "cell_type": "markdown",
   "metadata": {},
   "source": [
    "#### Plot Resting Heart Rate vs. Age Group\n",
    "We'll use [seaborn](https://seaborn.pydata.org/) to plot the relationship. Seaborn is a thin wrapper around matplotlib, which we've used extensively in this class, that enables higher-level statistical plots.\n",
    "\n",
    "We will use [lineplot](https://seaborn.pydata.org/generated/seaborn.lineplot.html#seaborn.lineplot) to plot the mean of the resting heart rates for each age group along with the 95% confidence interval around the mean. Learn more about making plots that show uncertainty [here](https://seaborn.pydata.org/tutorial/relational.html#aggregation-and-representing-uncertainty)."
   ]
  },
  {
   "cell_type": "code",
   "execution_count": 80,
   "metadata": {},
   "outputs": [
    {
     "data": {
      "image/png": "[encoded data removed]",
      "text/plain": [
       "<Figure size 864x576 with 1 Axes>"
      ]
     },
     "metadata": {
      "needs_background": "light"
     },
     "output_type": "display_data"
    }
   ],
   "source": [
    "import seaborn as sns\n",
    "from matplotlib import pyplot as plt\n",
    "%matplotlib inline\n",
    "\n",
    "labels = sorted(np.unique(df.age_group))\n",
    "df['xaxis'] = df.age_group.map(lambda x: labels.index(x)).astype('float')\n",
    "plt.figure(figsize=(12, 8))\n",
    "sns.lineplot(x='xaxis', y='rhr', hue='sex', data=df)\n",
    "_ = plt.xticks(np.arange(len(labels)), labels)"
   ]
  },
  {
   "cell_type": "markdown",
   "metadata": {},
   "source": [
    "### Clinical Conclusion\n",
    "Answer the following prompts to draw a conclusion about the data.\n",
    "> 1. For women, we see .... \n",
    "> 2. For men, we see ... \n",
    "> 3. In comparison to men, women's heart rate is .... \n",
    "> 4. What are some possible reasons for what we see in our data?\n",
    "> 5. What else can we do or go and find to figure out what is really happening? How would that improve the results?\n",
    "> 6. Did we validate the trend that average resting heart rate increases up until middle age and then decreases into old age? How?\n",
    "\n",
    "Your write-up will go here..."
   ]
  },
  {
   "cell_type": "markdown",
   "metadata": {},
   "source": [
    "### Answer"
   ]
  },
  {
   "cell_type": "markdown",
   "metadata": {},
   "source": [
    "> 1. For women, we see female's rhr is more motion than male. Going hight before 65 years old, and go down after 65 years old.\n",
    "> 2. For men, we see male's rhr is more stable than female.\n",
    "> 3. In comparison to men, women's heart rate is more motion. \n",
    "> 4. What are some possible reasons for what we see in our data? a.female has highter body temperature before 65.  b.female need to pregnant, maybe it is the reason why rhr going down after 65.\n",
    "> 5. What else can we do or go and find to figure out what is really happening? How would that improve the results?\n",
    "  add more feature a.sport habits  b.Race c.had pregnant or not and so on.\n",
    "> 6. Did we validate the trend that average resting heart rate increases up until middle age and then decreases into old age? How? not yet. we need more information about the data. "
   ]
  },
  {
   "cell_type": "code",
   "execution_count": null,
   "metadata": {},
   "outputs": [],
   "source": []
  }
 ],
 "metadata": {
  "kernelspec": {
   "display_name": "Python 3",
   "language": "python",
   "name": "python3"
  },
  "language_info": {
   "codemirror_mode": {
    "name": "ipython",
    "version": 3
   },
   "file_extension": ".py",
   "mimetype": "text/x-python",
   "name": "python",
   "nbconvert_exporter": "python",
   "pygments_lexer": "ipython3",
   "version": "3.8.3"
  }
 },
 "nbformat": 4,
 "nbformat_minor": 2
}
